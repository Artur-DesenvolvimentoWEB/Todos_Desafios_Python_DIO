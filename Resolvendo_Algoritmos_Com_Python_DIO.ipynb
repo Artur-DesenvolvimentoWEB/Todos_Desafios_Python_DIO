{
  "nbformat": 4,
  "nbformat_minor": 0,
  "metadata": {
    "colab": {
      "name": "Resolvendo_Algoritmos_Com_Python_DIO.ipynb",
      "provenance": [],
      "authorship_tag": "ABX9TyPWz9RAZyyMvfW6GB+htGf0",
      "include_colab_link": true
    },
    "kernelspec": {
      "name": "python3",
      "display_name": "Python 3"
    },
    "language_info": {
      "name": "python"
    }
  },
  "cells": [
    {
      "cell_type": "markdown",
      "metadata": {
        "id": "view-in-github",
        "colab_type": "text"
      },
      "source": [
        "<a href=\"https://colab.research.google.com/github/Artur-DesenvolvimentoWEB/Todos_Desafios_Python_DIO/blob/main/Resolvendo_Algoritmos_Com_Python_DIO.ipynb\" target=\"_parent\"><img src=\"https://colab.research.google.com/assets/colab-badge.svg\" alt=\"Open In Colab\"/></a>"
      ]
    },
    {
      "cell_type": "markdown",
      "metadata": {
        "id": "kPAh0RG9nSYc"
      },
      "source": [
        "#**Desafio 1 - Fibonnacci**\n",
        "\n",
        "> A seguinte sequência de números 0 1 1 2 3 5 8 13 21... é conhecida como série de Fibonacci. Nessa sequência, cada número, depois dos 2 primeiros, é igual à soma dos 2 anteriores. Escreva um algoritmo que leia um inteiro N (N < 46) e mostre os N primeiros números dessa série.\n",
        "\n",
        "#Entrada\n",
        "O arquivo de entrada contém um valor inteiro N (0 < N < 46).\n",
        "\n",
        "#Saída\n",
        "Os valores devem ser mostrados na mesma linha, separados por um espaço em branco. Não deve haver espaço após o último valor.\n",
        "\n",
        " <table style=\"width:100%\">\n",
        "  <tr>\n",
        "    <th>Exemplo de Entrada</th>\n",
        "    <th>Exemplo de Saída</th>\n",
        "  </tr>\n",
        "  <tr>\n",
        "    <td>6</td>\n",
        "    <td>0 1 1 2 3</td>\n",
        "    \n",
        "\n",
        "\n",
        "</table> "
      ]
    },
    {
      "cell_type": "code",
      "metadata": {
        "cellView": "form",
        "id": "kasog_0HGZfn"
      },
      "source": [
        "#@title\n",
        "n = int(input())\n",
        "if n > 0 and n < 46:  \n",
        "  fib_list = [0,1]\n",
        "  n = n - 1\n",
        "  for i in range(1,n):\n",
        "      fib_list.append(fib_list[i-1]+fib_list[i])\n",
        "  fib_string = ' '.join(map(str,fib_list))\n",
        "  print(fib_string)"
      ],
      "execution_count": null,
      "outputs": []
    },
    {
      "cell_type": "code",
      "metadata": {
        "cellView": "form",
        "id": "v2ZM9EXVbeZO"
      },
      "source": [
        "#@title\n",
        "n =int(input())\n",
        "i = 0\n",
        "t=[]\n",
        "while i < n:\n",
        "    if i == 0 or i == 1:\n",
        "        t.append(i)\n",
        "\n",
        "    if i > 1:\n",
        "        aux = t[i-2] +t[i-1]\n",
        "\n",
        "        t.append(aux)\n",
        "    i = i + 1\n",
        "for j in range(0, n):\n",
        "    t[j] =str(t[j])\n",
        "\n",
        "t = ' '.join(t)\n",
        "print(t)\n"
      ],
      "execution_count": null,
      "outputs": []
    },
    {
      "cell_type": "markdown",
      "metadata": {
        "id": "fhZK625ufGWH"
      },
      "source": [
        "#**Desafio 2 - Exibindo Números Pares**\n",
        "\n",
        "> Crie um programa que leia um número e mostre os números pares até esse número, inclusive ele mesmo.\n",
        "\n",
        "#Entrada\n",
        "####Você receberá 1 valor inteiro **N**, onde **N > 0**.\n",
        "\n",
        "#Saída\n",
        "\n",
        "#####Exiba todos os números pares até o valor de entrada, sendo um em cada linha. \n",
        "\n",
        " <table style=\"width:100%\">\n",
        "  <tr>\n",
        "    <th>Exemplo de Entrada</th>\n",
        "    <th>Exemplo de Saída</th>\n",
        "  </tr>\n",
        "  <tr>\n",
        "    <td>6</td>\n",
        "    <td>2</td>\n",
        "    \n",
        "   \n",
        "  </tr>\n",
        "  <tr>\n",
        "    <td></td>\n",
        "    <td>4</td>\n",
        "  </tr>\n",
        "\n",
        "  <tr>\n",
        "    <td></td>\n",
        "    <td>6</td>\n",
        "  </tr>\n",
        "\n",
        "</table> \n",
        "\n",
        "\n"
      ]
    },
    {
      "cell_type": "code",
      "metadata": {
        "cellView": "form",
        "id": "6SWdhi6mbeL4"
      },
      "source": [
        "#@title\n",
        "entrada = int(input())\n",
        "if entrada > 0:\n",
        "  for i in range(0,entrada+1):\n",
        "    if i % 2 == 0 and i != 0:\n",
        "      print(i)"
      ],
      "execution_count": null,
      "outputs": []
    },
    {
      "cell_type": "markdown",
      "metadata": {
        "id": "syW9GS6ToftY"
      },
      "source": [
        "#**Desafio 2 - Exibindo Números Pares**\n",
        "\n",
        "> Ramsay: \"(...) você vence se conseguir adivinhar quem eu sou e por que estou torturando você.\" \n",
        "\n",
        ">Theon deve pensar rápido e adivinhar quem é seu algoz! Entretanto, Ramsay já decidiu o que ele irá fazer depois que Theon der sua resposta.\n",
        "\n",
        ">Theon pode dizer que seu algoz é alguma dentre N pessoas. Considere que as pessoas são numeradas de 1 a N. Se Theon responder que seu algoz é a pessoa i, Ramsay irá atingi-lo Ti vezes.\n",
        "\n",
        ">Sua tarefa é ajudar Theon a determinar qual deve ser sua resposta de forma a minimizar o número de vezes que ele será atingido.\n",
        "\n",
        "#Entrada\n",
        "#####A primeira linha contém um inteiro N (1 ≤ N ≤ 100). A segunda linha contém N inteiros T1, T2, ..., TN (0 ≤ Ti ≤ 20).\n",
        "\n",
        "#Saída\n",
        "\n",
        "#####Imprima uma linha contendo o número da pessoa que Theon deve dizer ser seu algoz. Se existe mais de uma resposta possível, imprima a menor. \n",
        "\n",
        " <table style=\"width:100%\">\n",
        "  <tr>\n",
        "    <th>Exemplo de Entrada</th>\n",
        "    <th>Exemplo de Saída</th>\n",
        "  </tr>\n",
        "\n",
        "  <tr>\n",
        "    <td>3</td>\n",
        "    <td>2</td>\n",
        "  </tr>\n",
        "\n",
        "  <tr>\n",
        "    <td>8 0 7</td>\n",
        "    <td></td>\n",
        "  </tr>\n",
        "\n",
        "</table> \n",
        "\n",
        " <table style=\"width:100%\">\n",
        "  <tr>\n",
        "    <th>Exemplo de Entrada</th>\n",
        "    <th>Exemplo de Saída</th>\n",
        "  </tr>\n",
        "\n",
        "  <tr>\n",
        "    <td>2</td>\n",
        "    <td>1</td>\n",
        "  </tr>\n",
        "\n",
        "  <tr>\n",
        "    <td>1 1</td>\n",
        "    <td></td>\n",
        "  </tr>\n",
        "  \n",
        "</table> \n",
        "\n",
        "\n",
        "\n",
        "\n"
      ]
    },
    {
      "cell_type": "code",
      "metadata": {
        "cellView": "form",
        "id": "tgRdEPCzleFB"
      },
      "source": [
        "#@title\n",
        "N = int(input())\n",
        "T = [int(num) for num in input().split(' ')]\n",
        "\n",
        "posicao = 0\n",
        "for z in range(N):\n",
        "  if T[posicao] > T[z]:\n",
        "    posicao = z\n",
        "\n",
        "print(posicao + 1)"
      ],
      "execution_count": null,
      "outputs": []
    }
  ]
}